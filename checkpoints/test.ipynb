{
 "cells": [
  {
   "cell_type": "code",
   "execution_count": 1,
   "metadata": {},
   "outputs": [
    {
     "name": "stderr",
     "output_type": "stream",
     "text": [
      "/opt/conda/envs/openmmlab/lib/python3.7/site-packages/tqdm/auto.py:22: TqdmWarning: IProgress not found. Please update jupyter and ipywidgets. See https://ipywidgets.readthedocs.io/en/stable/user_install.html\n",
      "  from .autonotebook import tqdm as notebook_tqdm\n"
     ]
    }
   ],
   "source": [
    "import torch"
   ]
  },
  {
   "cell_type": "code",
   "execution_count": 2,
   "metadata": {},
   "outputs": [],
   "source": [
    "ckpt = torch.load(\"./faster_rcnn_r50_fpn_1x_coco_20200130-047c8118.pth\")"
   ]
  },
  {
   "cell_type": "code",
   "execution_count": 19,
   "metadata": {},
   "outputs": [],
   "source": [
    "w = ckpt['state_dict']['backbone.layer1.0.conv1.weight'].numpy()"
   ]
  },
  {
   "cell_type": "code",
   "execution_count": 22,
   "metadata": {},
   "outputs": [
    {
     "name": "stdout",
     "output_type": "stream",
     "text": [
      "index: 0, l1 norm: 4.468993186950684\n",
      "index: 1, l1 norm: 3.347125768661499\n",
      "index: 2, l1 norm: 1.7985440492630005\n",
      "index: 3, l1 norm: 2.4104321002960205\n",
      "index: 4, l1 norm: 3.013242483139038\n",
      "index: 5, l1 norm: 2.7667598724365234\n",
      "index: 6, l1 norm: 3.333831548690796\n",
      "index: 7, l1 norm: 7.75836042521405e-07\n",
      "index: 8, l1 norm: 1.785241723060608\n",
      "index: 9, l1 norm: 2.3947572708129883\n",
      "index: 10, l1 norm: 2.9181976318359375\n",
      "index: 11, l1 norm: 3.2521939277648926\n",
      "index: 12, l1 norm: 2.7267587184906006\n",
      "index: 13, l1 norm: 3.3134942054748535\n",
      "index: 14, l1 norm: 2.9084360599517822\n",
      "index: 15, l1 norm: 2.298417091369629\n",
      "index: 16, l1 norm: 2.6085453033447266\n",
      "index: 17, l1 norm: 2.4419898986816406\n",
      "index: 18, l1 norm: 2.4323172569274902\n",
      "index: 19, l1 norm: 2.7152905464172363\n",
      "index: 20, l1 norm: 2.8993117809295654\n",
      "index: 21, l1 norm: 3.9596519470214844\n",
      "index: 22, l1 norm: 3.0314035415649414\n",
      "index: 23, l1 norm: 6.710203024340444e-07\n",
      "index: 24, l1 norm: 2.856172561645508\n",
      "index: 25, l1 norm: 3.124166965484619\n",
      "index: 26, l1 norm: 2.598200798034668\n",
      "index: 27, l1 norm: 6.668738024018239e-07\n",
      "index: 28, l1 norm: 1.6556147336959839\n",
      "index: 29, l1 norm: 2.9103221893310547\n",
      "index: 30, l1 norm: 3.0568974018096924\n",
      "index: 31, l1 norm: 1.7769172191619873\n",
      "index: 32, l1 norm: 1.553929090499878\n",
      "index: 33, l1 norm: 1.9322147369384766\n",
      "index: 34, l1 norm: 3.221095085144043\n",
      "index: 35, l1 norm: 2.7033493518829346\n",
      "index: 36, l1 norm: 2.6077024936676025\n",
      "index: 37, l1 norm: 3.83225417137146\n",
      "index: 38, l1 norm: 2.6565661430358887\n",
      "index: 39, l1 norm: 4.032005786895752\n",
      "index: 40, l1 norm: 3.1538076400756836\n",
      "index: 41, l1 norm: 2.010833740234375\n",
      "index: 42, l1 norm: 2.687163829803467\n",
      "index: 43, l1 norm: 2.547196626663208\n",
      "index: 44, l1 norm: 3.3139476776123047\n",
      "index: 45, l1 norm: 2.5096330642700195\n",
      "index: 46, l1 norm: 1.5342668294906616\n",
      "index: 47, l1 norm: 5.038392066955566\n",
      "index: 48, l1 norm: 2.9944300651550293\n",
      "index: 49, l1 norm: 2.8678836822509766\n",
      "index: 50, l1 norm: 1.871626615524292\n",
      "index: 51, l1 norm: 2.6080973148345947\n",
      "index: 52, l1 norm: 1.5354461669921875\n",
      "index: 53, l1 norm: 4.174930572509766\n",
      "index: 54, l1 norm: 1.787539005279541\n",
      "index: 55, l1 norm: 1.7210772037506104\n",
      "index: 56, l1 norm: 7.450087196048116e-07\n",
      "index: 57, l1 norm: 3.0336713790893555\n",
      "index: 58, l1 norm: 6.975993187552376e-07\n",
      "index: 59, l1 norm: 3.4594764709472656\n",
      "index: 60, l1 norm: 3.8437514305114746\n",
      "index: 61, l1 norm: 1.8405685424804688\n",
      "index: 62, l1 norm: 3.370002269744873\n",
      "index: 63, l1 norm: 3.8892626762390137\n"
     ]
    }
   ],
   "source": [
    "import numpy as np\n",
    "l1_list = []\n",
    "for i in range(64):\n",
    "    t = w[i].reshape(-1)\n",
    "    l1 = np.linalg.norm(t, ord=1)\n",
    "    l1_list.append(l1)\n",
    "    print(f\"index: {i}, l1 norm: {l1}\")"
   ]
  },
  {
   "cell_type": "code",
   "execution_count": 24,
   "metadata": {},
   "outputs": [
    {
     "data": {
      "text/plain": [
       "2.70932"
      ]
     },
     "execution_count": 24,
     "metadata": {},
     "output_type": "execute_result"
    }
   ],
   "source": [
    "np.median(l1_list)"
   ]
  },
  {
   "cell_type": "code",
   "execution_count": 25,
   "metadata": {},
   "outputs": [
    {
     "data": {
      "text/plain": [
       "[True,\n",
       " True,\n",
       " False,\n",
       " False,\n",
       " True,\n",
       " True,\n",
       " True,\n",
       " False,\n",
       " False,\n",
       " False,\n",
       " True,\n",
       " True,\n",
       " True,\n",
       " True,\n",
       " True,\n",
       " False,\n",
       " False,\n",
       " False,\n",
       " False,\n",
       " True,\n",
       " True,\n",
       " True,\n",
       " True,\n",
       " False,\n",
       " True,\n",
       " True,\n",
       " False,\n",
       " False,\n",
       " False,\n",
       " True,\n",
       " True,\n",
       " False,\n",
       " False,\n",
       " False,\n",
       " True,\n",
       " False,\n",
       " False,\n",
       " True,\n",
       " False,\n",
       " True,\n",
       " True,\n",
       " False,\n",
       " False,\n",
       " False,\n",
       " True,\n",
       " False,\n",
       " False,\n",
       " True,\n",
       " True,\n",
       " True,\n",
       " False,\n",
       " False,\n",
       " False,\n",
       " True,\n",
       " False,\n",
       " False,\n",
       " False,\n",
       " True,\n",
       " False,\n",
       " True,\n",
       " True,\n",
       " False,\n",
       " True,\n",
       " True]"
      ]
     },
     "execution_count": 25,
     "metadata": {},
     "output_type": "execute_result"
    }
   ],
   "source": [
    "[i > 2.70932 for i in l1_list]"
   ]
  },
  {
   "cell_type": "code",
   "execution_count": null,
   "metadata": {},
   "outputs": [],
   "source": []
  }
 ],
 "metadata": {
  "interpreter": {
   "hash": "f970aae8c359c97046dcfc4e9c1c65f5e3f9cca2a3bef624d88d45c69053e355"
  },
  "kernelspec": {
   "display_name": "Python 3.7.12 ('openmmlab')",
   "language": "python",
   "name": "python3"
  },
  "language_info": {
   "codemirror_mode": {
    "name": "ipython",
    "version": 3
   },
   "file_extension": ".py",
   "mimetype": "text/x-python",
   "name": "python",
   "nbconvert_exporter": "python",
   "pygments_lexer": "ipython3",
   "version": "3.7.12"
  },
  "orig_nbformat": 4
 },
 "nbformat": 4,
 "nbformat_minor": 2
}
