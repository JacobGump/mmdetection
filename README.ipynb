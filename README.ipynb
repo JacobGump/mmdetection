{
 "cells": [
  {
   "cell_type": "markdown",
   "metadata": {},
   "source": [
    "# README\n",
    "### Jacob Geng\n",
    "\n",
    "This repository contains the source code I used for the final project of course EE6692 for Spring semester in year 2022. This getting started file should serve (somewhat) like a readme file used to reproduce the results"
   ]
  },
  {
   "cell_type": "markdown",
   "metadata": {},
   "source": [
    "## Building Dependencies\n",
    "This project made use of the following opensource packages:\n",
    "1. mmdetection:\\\n",
    "    Many opensource projects exist for the object detection task. I chose mmdetection for its high efficiency in model training and easy configurations for custom model structures.\n",
    "2. nni:\\\n",
    "    The Microsoft package encoorporates many useful tools for deep learning including hyper parameter tuning, neural architectural search and many more. I used the pruning and quantization part of this project.\n",
    "\n",
    "### MMdetection\n",
    "```bash\n",
    "git clone https://github.com/JacobGump/mmdetection.git\n",
    "\n",
    "```\n",
    "\n",
    "### NNI"
   ]
  },
  {
   "cell_type": "markdown",
   "metadata": {},
   "source": []
  }
 ],
 "metadata": {
  "language_info": {
   "name": "python"
  },
  "orig_nbformat": 4
 },
 "nbformat": 4,
 "nbformat_minor": 2
}
